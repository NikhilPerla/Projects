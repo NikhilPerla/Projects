{
  "nbformat": 4,
  "nbformat_minor": 0,
  "metadata": {
    "colab": {
      "provenance": []
    },
    "kernelspec": {
      "name": "python3",
      "display_name": "Python 3"
    }
  },
  "cells": [
    {
      "cell_type": "markdown",
      "metadata": {
        "id": "mgdZJmYA0Frh"
      },
      "source": [
        "NYC's *Stop, Question, and Frisk* is a program/practice by the New York Police Department in which officers approach, temporarily detain, and (in some cases) frisk civilians on the street for weapons or contraband.  The program's implementation has been highly controversial with accusations of racial profiling and bias, and in 2013 a US federal judge found that the program had been carried out in a way that violated the US Constitution.  Using publicly available Stop and Frisk [data](https://www1.nyc.gov/site/nypd/stats/reports-analysis/stopfrisk.page), in this assignment you will expore the ability of Random Forest models to predict whether, for those stops in which a suspect was suspected of having a weapon, a weapon is likely to have been found (an analysis related to the one carried out in [Goel, Rao, & Shroff, 2016](https://projecteuclid.org/journals/annals-of-applied-statistics/volume-10/issue-1/Precinct-or-prejudice-Understanding-racial-disparities-in-New-York-Citys/10.1214/15-AOAS897.full)).\n",
        "\n",
        "<b>"
      ]
    },
    {
      "cell_type": "markdown",
      "metadata": {
        "id": "mjduiFSrLBRt"
      },
      "source": [
        "---"
      ]
    },
    {
      "cell_type": "markdown",
      "metadata": {
        "id": "p6VBIzMl0rUX"
      },
      "source": [
        "### **Part 1 - Loading and Cleaning data**"
      ]
    },
    {
      "cell_type": "code",
      "source": [
        "from google.colab import drive\n",
        "drive.mount('/content/drive')"
      ],
      "metadata": {
        "colab": {
          "base_uri": "https://localhost:8080/"
        },
        "id": "lXi4s81Jec6v",
        "outputId": "de4e16e7-1808-482a-e289-4cfb72733f13"
      },
      "execution_count": null,
      "outputs": [
        {
          "output_type": "stream",
          "name": "stdout",
          "text": [
            "Mounted at /content/drive\n"
          ]
        }
      ]
    },
    {
      "cell_type": "code",
      "source": [
        "# -- useful imports\n",
        "import numpy as np\n",
        "import matplotlib.pyplot as plt\n",
        "import pandas as pd\n",
        "from sklearn.tree import DecisionTreeClassifier\n",
        "from sklearn.model_selection import train_test_split\n",
        "from sklearn.metrics import accuracy_score, classification_report\n",
        "from sklearn import tree\n",
        "import graphviz"
      ],
      "metadata": {
        "id": "LGiLucL0eXm-"
      },
      "execution_count": null,
      "outputs": []
    },
    {
      "cell_type": "code",
      "metadata": {
        "id": "hOEtY54gEItH",
        "colab": {
          "base_uri": "https://localhost:8080/"
        },
        "outputId": "e3c72ca8-ea85-47fa-9eb5-22c1e88be885"
      },
      "source": [
        "# Replace 'path_to_file' with the actual path to your CSV file\n",
        "file_path = '/content/drive/Shareddrives/mlpp24/data/stop_and_frisk/2010.csv'\n",
        "\n",
        "# Read the CSV file into a DataFrame\n",
        "sqf = pd.read_csv(file_path, low_memory=False)\n",
        "\n",
        "print(sqf.head())\n"
      ],
      "execution_count": null,
      "outputs": [
        {
          "output_type": "stream",
          "name": "stdout",
          "text": [
            "   year  pct  ser_num  datestop  timestop recstat inout trhsloc  perobs  \\\n",
            "0  2010   78       81   1012010       340       1     O       P       1   \n",
            "1  2010   26       21   1042010      1548       1     O       P       2   \n",
            "2  2010   18       34   1092010      1550       1     I       T       1   \n",
            "3  2010  108      102   1112010      1120       A     O       P       5   \n",
            "4  2010   23     2437   1222010      1620       1     O       H       1   \n",
            "\n",
            "   crimsusp  ...  zip addrpct sector beat post   xcoord  ycoord dettypcm  \\\n",
            "0      MISD  ...           78                    995504  189189       CM   \n",
            "1   ROBBERY  ...           26      F             998641  236979       CM   \n",
            "2      MISD  ...           18      H                                  CM   \n",
            "3  BURGLARY  ...          108      G            1009146  209683       CM   \n",
            "4       CPM  ...           23                                         CM   \n",
            "\n",
            "   linecm  detailcm  \n",
            "0       1        20  \n",
            "1       1        85  \n",
            "2       1        20  \n",
            "3       1        14  \n",
            "4       1        27  \n",
            "\n",
            "[5 rows x 111 columns]\n"
          ]
        }
      ]
    },
    {
      "cell_type": "markdown",
      "metadata": {
        "id": "YXQ9zdQkh3CD"
      },
      "source": [
        "**Looking at the \"Data Dictionary\" in the link above (i.e., the SQF file documentation found** [here](https://www1.nyc.gov/assets/nypd/downloads/zip/analysis_and_planning/stop-question-frisk/SQF-File-Documentation.zip)**) drop all columns except:**\n",
        "\n",
        "<b>\n",
        "\n",
        "1. the period of observation\n",
        "2. whether the stop was made inside or outside\n",
        "3. columns that indicate that a weapon was found on the subject\n",
        "4. columns related to whether the subject was suspected of carrying a weapon\n",
        "5. the subject's sex\n",
        "6. the subject's age\n",
        "7. the subject's race\n",
        "\n",
        "</b>"
      ]
    },
    {
      "cell_type": "code",
      "metadata": {
        "id": "R9rJ9ABy2k2O",
        "colab": {
          "base_uri": "https://localhost:8080/"
        },
        "outputId": "23119018-2cb0-401c-e8e6-c330b1da0b52"
      },
      "source": [
        "# List of columns to keep\n",
        "columns_to_keep = [\n",
        "    'perobs',    # Period of observation\n",
        "    'inout',     # Inside or outside\n",
        "    # Columns indicating a weapon was found\n",
        "    'contrabn', 'pistol', 'riflshot', 'asltweap', 'knifcuti', 'machgun', 'othrweap',\n",
        "    # Columns related to suspected weapon\n",
        "    'sb_hdobj', 'sb_outln', 'sb_admis',\n",
        "    'cs_objcs',\n",
        "    'sex',       # Subject's sex\n",
        "    'age',       # Subject's age\n",
        "    'race'       # Subject's race\n",
        "]\n",
        "\n",
        "# Filter the DataFrame to keep only the specified columns\n",
        "filtered_sqf = sqf[columns_to_keep]\n",
        "\n",
        "# Display the first few rows of the filtered DataFrame\n",
        "print(filtered_sqf.head())"
      ],
      "execution_count": null,
      "outputs": [
        {
          "output_type": "stream",
          "name": "stdout",
          "text": [
            "   perobs inout contrabn pistol riflshot asltweap knifcuti machgun othrweap  \\\n",
            "0       1     O        N      N        N        N        N       N        N   \n",
            "1       2     O        N      N        N        N        N       N        N   \n",
            "2       1     I        N      N        N        N        N       N        N   \n",
            "3       5     O        N      N        N        N        N       N        N   \n",
            "4       1     O        N      N        N        N        N       N        N   \n",
            "\n",
            "  sb_hdobj sb_outln sb_admis cs_objcs sex  age race  \n",
            "0        N        N        N        N   M   17    B  \n",
            "1        N        N        N        N   M   20    P  \n",
            "2        Y        N        N        N   M   55    Q  \n",
            "3        N        N        N        N   M   17    Q  \n",
            "4        N        N        N        N   M   55    B  \n"
          ]
        }
      ]
    },
    {
      "cell_type": "markdown",
      "metadata": {
        "id": "bKS8UuEKjbMr"
      },
      "source": [
        "**Convert all binary columns (i.e., columns with categories that only have two possible values) to 1s and 0s.**"
      ]
    },
    {
      "cell_type": "code",
      "metadata": {
        "id": "6TCrtgvOB2I_",
        "colab": {
          "base_uri": "https://localhost:8080/"
        },
        "outputId": "ac007160-ae1b-4fe2-d6a8-7c8e365f2ddd"
      },
      "source": [
        "binary_mapping = {'Y': 1, 'N': 0}\n",
        "\n",
        "binary_columns = ['inout', 'contrabn', 'pistol', 'riflshot', 'asltweap', 'knifcuti', 'machgun', 'othrweap',\n",
        "                  'sb_hdobj', 'sb_outln', 'sb_admis', 'cs_objcs']\n",
        "\n",
        "filtered_sqf[binary_columns] = filtered_sqf[binary_columns].applymap(lambda x: binary_mapping.get(x, x))\n",
        "\n",
        "print(filtered_sqf.head())"
      ],
      "execution_count": null,
      "outputs": [
        {
          "output_type": "stream",
          "name": "stdout",
          "text": [
            "   perobs inout  contrabn  pistol  riflshot  asltweap  knifcuti  machgun  \\\n",
            "0       1     O         0       0         0         0         0        0   \n",
            "1       2     O         0       0         0         0         0        0   \n",
            "2       1     I         0       0         0         0         0        0   \n",
            "3       5     O         0       0         0         0         0        0   \n",
            "4       1     O         0       0         0         0         0        0   \n",
            "\n",
            "   othrweap  sb_hdobj  sb_outln  sb_admis  cs_objcs sex  age race  \n",
            "0         0         0         0         0         0   M   17    B  \n",
            "1         0         0         0         0         0   M   20    P  \n",
            "2         0         1         0         0         0   M   55    Q  \n",
            "3         0         0         0         0         0   M   17    Q  \n",
            "4         0         0         0         0         0   M   55    B  \n"
          ]
        },
        {
          "output_type": "stream",
          "name": "stderr",
          "text": [
            "<ipython-input-5-0156cc50c0c8>:6: SettingWithCopyWarning: \n",
            "A value is trying to be set on a copy of a slice from a DataFrame.\n",
            "Try using .loc[row_indexer,col_indexer] = value instead\n",
            "\n",
            "See the caveats in the documentation: https://pandas.pydata.org/pandas-docs/stable/user_guide/indexing.html#returning-a-view-versus-a-copy\n",
            "  filtered_sqf[binary_columns] = filtered_sqf[binary_columns].applymap(lambda x: binary_mapping.get(x, x))\n"
          ]
        }
      ]
    },
    {
      "cell_type": "markdown",
      "metadata": {
        "id": "a__6Gh8_kBs6"
      },
      "source": [
        "**Only keep rows that indicate that a suspect might have been suspected of carrying a weapon.**"
      ]
    },
    {
      "cell_type": "code",
      "metadata": {
        "id": "2PJ698LHCzS8",
        "colab": {
          "base_uri": "https://localhost:8080/"
        },
        "outputId": "967cba4a-4f72-4708-b269-22e5e74d088f"
      },
      "source": [
        "# List of columns indicating weapon possession suspicion\n",
        "weapon_suspicion_columns = ['sb_hdobj', 'sb_outln', 'sb_admis', 'cs_objcs']\n",
        "\n",
        "filtered_sqf_with_weapon_suspicion = filtered_sqf[filtered_sqf[weapon_suspicion_columns].any(axis=1)]\n",
        "\n",
        "# Display the first few rows of the filtered DataFrame\n",
        "print(filtered_sqf_with_weapon_suspicion.head())\n"
      ],
      "execution_count": null,
      "outputs": [
        {
          "output_type": "stream",
          "name": "stdout",
          "text": [
            "    perobs inout  contrabn  pistol  riflshot  asltweap  knifcuti  machgun  \\\n",
            "2        1     I         0       0         0         0         0        0   \n",
            "5        5     I         0       0         0         0         0        0   \n",
            "13       4     I         0       0         0         0         0        0   \n",
            "16       1     O         1       0         0         0         0        0   \n",
            "21       2     O         0       1         0         0         0        0   \n",
            "\n",
            "    othrweap  sb_hdobj  sb_outln  sb_admis  cs_objcs sex  age race  \n",
            "2          0         1         0         0         0   M   55    Q  \n",
            "5          0         0         0         0         1   M   57    Q  \n",
            "13         0         0         0         0         1   M   63    B  \n",
            "16         0         1         0         0         0   M   30    Q  \n",
            "21         0         1         0         0         0   M   15    B  \n"
          ]
        }
      ]
    },
    {
      "cell_type": "markdown",
      "metadata": {
        "id": "M45DKDuRk_47"
      },
      "source": [
        "**Create a column `\"weapon_fnd\"` to indicate whether a weapon (of any type) was found or not (1 or 0).**"
      ]
    },
    {
      "cell_type": "code",
      "metadata": {
        "id": "WmD9d718Dqdr",
        "colab": {
          "base_uri": "https://localhost:8080/",
          "height": 528
        },
        "outputId": "2fe82486-3a58-4e6c-84d3-038913c26de9"
      },
      "source": [
        "# List of columns indicating weapon possession\n",
        "weapon_columns = ['contrabn', 'pistol', 'riflshot', 'asltweap', 'knifcuti', 'machgun', 'othrweap',]\n",
        "\n",
        "# Create the \"weapon_fnd\" column\n",
        "filtered_sqf_with_weapon_suspicion['weapon_fnd'] = filtered_sqf[weapon_columns].any(axis=1).astype(int)\n",
        "\n",
        "# Display the first few rows of the DataFrame with the new column\n",
        "filtered_sqf_with_weapon_suspicion"
      ],
      "execution_count": null,
      "outputs": [
        {
          "output_type": "stream",
          "name": "stderr",
          "text": [
            "<ipython-input-7-43313d650d55>:5: SettingWithCopyWarning: \n",
            "A value is trying to be set on a copy of a slice from a DataFrame.\n",
            "Try using .loc[row_indexer,col_indexer] = value instead\n",
            "\n",
            "See the caveats in the documentation: https://pandas.pydata.org/pandas-docs/stable/user_guide/indexing.html#returning-a-view-versus-a-copy\n",
            "  filtered_sqf_with_weapon_suspicion['weapon_fnd'] = filtered_sqf[weapon_columns].any(axis=1).astype(int)\n"
          ]
        },
        {
          "output_type": "execute_result",
          "data": {
            "text/plain": [
              "        perobs inout  contrabn  pistol  riflshot  asltweap  knifcuti  machgun  \\\n",
              "2            1     I         0       0         0         0         0        0   \n",
              "5            5     I         0       0         0         0         0        0   \n",
              "13           4     I         0       0         0         0         0        0   \n",
              "16           1     O         1       0         0         0         0        0   \n",
              "21           2     O         0       1         0         0         0        0   \n",
              "...        ...   ...       ...     ...       ...       ...       ...      ...   \n",
              "601274       1     O         0       0         0         0         0        0   \n",
              "601276       1     O         0       0         0         0         0        0   \n",
              "601277       1     O         0       0         0         0         0        0   \n",
              "601278       1     I         0       0         0         0         0        0   \n",
              "601279       1     O         0       0         0         0         0        0   \n",
              "\n",
              "        othrweap  sb_hdobj  sb_outln  sb_admis  cs_objcs sex  age race  \\\n",
              "2              0         1         0         0         0   M   55    Q   \n",
              "5              0         0         0         0         1   M   57    Q   \n",
              "13             0         0         0         0         1   M   63    B   \n",
              "16             0         1         0         0         0   M   30    Q   \n",
              "21             0         1         0         0         0   M   15    B   \n",
              "...          ...       ...       ...       ...       ...  ..  ...  ...   \n",
              "601274         0         1         0         0         0   M   27    A   \n",
              "601276         0         1         0         0         0   M   19    B   \n",
              "601277         0         1         0         0         0   M   17    Q   \n",
              "601278         0         0         1         0         0   M   17    Q   \n",
              "601279         0         1         0         0         0   M   17    Q   \n",
              "\n",
              "        weapon_fnd  \n",
              "2                0  \n",
              "5                0  \n",
              "13               0  \n",
              "16               1  \n",
              "21               1  \n",
              "...            ...  \n",
              "601274           0  \n",
              "601276           0  \n",
              "601277           0  \n",
              "601278           0  \n",
              "601279           0  \n",
              "\n",
              "[45816 rows x 17 columns]"
            ],
            "text/html": [
              "\n",
              "  <div id=\"df-4bd31290-10b9-444a-ba8b-a7a5ee512deb\" class=\"colab-df-container\">\n",
              "    <div>\n",
              "<style scoped>\n",
              "    .dataframe tbody tr th:only-of-type {\n",
              "        vertical-align: middle;\n",
              "    }\n",
              "\n",
              "    .dataframe tbody tr th {\n",
              "        vertical-align: top;\n",
              "    }\n",
              "\n",
              "    .dataframe thead th {\n",
              "        text-align: right;\n",
              "    }\n",
              "</style>\n",
              "<table border=\"1\" class=\"dataframe\">\n",
              "  <thead>\n",
              "    <tr style=\"text-align: right;\">\n",
              "      <th></th>\n",
              "      <th>perobs</th>\n",
              "      <th>inout</th>\n",
              "      <th>contrabn</th>\n",
              "      <th>pistol</th>\n",
              "      <th>riflshot</th>\n",
              "      <th>asltweap</th>\n",
              "      <th>knifcuti</th>\n",
              "      <th>machgun</th>\n",
              "      <th>othrweap</th>\n",
              "      <th>sb_hdobj</th>\n",
              "      <th>sb_outln</th>\n",
              "      <th>sb_admis</th>\n",
              "      <th>cs_objcs</th>\n",
              "      <th>sex</th>\n",
              "      <th>age</th>\n",
              "      <th>race</th>\n",
              "      <th>weapon_fnd</th>\n",
              "    </tr>\n",
              "  </thead>\n",
              "  <tbody>\n",
              "    <tr>\n",
              "      <th>2</th>\n",
              "      <td>1</td>\n",
              "      <td>I</td>\n",
              "      <td>0</td>\n",
              "      <td>0</td>\n",
              "      <td>0</td>\n",
              "      <td>0</td>\n",
              "      <td>0</td>\n",
              "      <td>0</td>\n",
              "      <td>0</td>\n",
              "      <td>1</td>\n",
              "      <td>0</td>\n",
              "      <td>0</td>\n",
              "      <td>0</td>\n",
              "      <td>M</td>\n",
              "      <td>55</td>\n",
              "      <td>Q</td>\n",
              "      <td>0</td>\n",
              "    </tr>\n",
              "    <tr>\n",
              "      <th>5</th>\n",
              "      <td>5</td>\n",
              "      <td>I</td>\n",
              "      <td>0</td>\n",
              "      <td>0</td>\n",
              "      <td>0</td>\n",
              "      <td>0</td>\n",
              "      <td>0</td>\n",
              "      <td>0</td>\n",
              "      <td>0</td>\n",
              "      <td>0</td>\n",
              "      <td>0</td>\n",
              "      <td>0</td>\n",
              "      <td>1</td>\n",
              "      <td>M</td>\n",
              "      <td>57</td>\n",
              "      <td>Q</td>\n",
              "      <td>0</td>\n",
              "    </tr>\n",
              "    <tr>\n",
              "      <th>13</th>\n",
              "      <td>4</td>\n",
              "      <td>I</td>\n",
              "      <td>0</td>\n",
              "      <td>0</td>\n",
              "      <td>0</td>\n",
              "      <td>0</td>\n",
              "      <td>0</td>\n",
              "      <td>0</td>\n",
              "      <td>0</td>\n",
              "      <td>0</td>\n",
              "      <td>0</td>\n",
              "      <td>0</td>\n",
              "      <td>1</td>\n",
              "      <td>M</td>\n",
              "      <td>63</td>\n",
              "      <td>B</td>\n",
              "      <td>0</td>\n",
              "    </tr>\n",
              "    <tr>\n",
              "      <th>16</th>\n",
              "      <td>1</td>\n",
              "      <td>O</td>\n",
              "      <td>1</td>\n",
              "      <td>0</td>\n",
              "      <td>0</td>\n",
              "      <td>0</td>\n",
              "      <td>0</td>\n",
              "      <td>0</td>\n",
              "      <td>0</td>\n",
              "      <td>1</td>\n",
              "      <td>0</td>\n",
              "      <td>0</td>\n",
              "      <td>0</td>\n",
              "      <td>M</td>\n",
              "      <td>30</td>\n",
              "      <td>Q</td>\n",
              "      <td>1</td>\n",
              "    </tr>\n",
              "    <tr>\n",
              "      <th>21</th>\n",
              "      <td>2</td>\n",
              "      <td>O</td>\n",
              "      <td>0</td>\n",
              "      <td>1</td>\n",
              "      <td>0</td>\n",
              "      <td>0</td>\n",
              "      <td>0</td>\n",
              "      <td>0</td>\n",
              "      <td>0</td>\n",
              "      <td>1</td>\n",
              "      <td>0</td>\n",
              "      <td>0</td>\n",
              "      <td>0</td>\n",
              "      <td>M</td>\n",
              "      <td>15</td>\n",
              "      <td>B</td>\n",
              "      <td>1</td>\n",
              "    </tr>\n",
              "    <tr>\n",
              "      <th>...</th>\n",
              "      <td>...</td>\n",
              "      <td>...</td>\n",
              "      <td>...</td>\n",
              "      <td>...</td>\n",
              "      <td>...</td>\n",
              "      <td>...</td>\n",
              "      <td>...</td>\n",
              "      <td>...</td>\n",
              "      <td>...</td>\n",
              "      <td>...</td>\n",
              "      <td>...</td>\n",
              "      <td>...</td>\n",
              "      <td>...</td>\n",
              "      <td>...</td>\n",
              "      <td>...</td>\n",
              "      <td>...</td>\n",
              "      <td>...</td>\n",
              "    </tr>\n",
              "    <tr>\n",
              "      <th>601274</th>\n",
              "      <td>1</td>\n",
              "      <td>O</td>\n",
              "      <td>0</td>\n",
              "      <td>0</td>\n",
              "      <td>0</td>\n",
              "      <td>0</td>\n",
              "      <td>0</td>\n",
              "      <td>0</td>\n",
              "      <td>0</td>\n",
              "      <td>1</td>\n",
              "      <td>0</td>\n",
              "      <td>0</td>\n",
              "      <td>0</td>\n",
              "      <td>M</td>\n",
              "      <td>27</td>\n",
              "      <td>A</td>\n",
              "      <td>0</td>\n",
              "    </tr>\n",
              "    <tr>\n",
              "      <th>601276</th>\n",
              "      <td>1</td>\n",
              "      <td>O</td>\n",
              "      <td>0</td>\n",
              "      <td>0</td>\n",
              "      <td>0</td>\n",
              "      <td>0</td>\n",
              "      <td>0</td>\n",
              "      <td>0</td>\n",
              "      <td>0</td>\n",
              "      <td>1</td>\n",
              "      <td>0</td>\n",
              "      <td>0</td>\n",
              "      <td>0</td>\n",
              "      <td>M</td>\n",
              "      <td>19</td>\n",
              "      <td>B</td>\n",
              "      <td>0</td>\n",
              "    </tr>\n",
              "    <tr>\n",
              "      <th>601277</th>\n",
              "      <td>1</td>\n",
              "      <td>O</td>\n",
              "      <td>0</td>\n",
              "      <td>0</td>\n",
              "      <td>0</td>\n",
              "      <td>0</td>\n",
              "      <td>0</td>\n",
              "      <td>0</td>\n",
              "      <td>0</td>\n",
              "      <td>1</td>\n",
              "      <td>0</td>\n",
              "      <td>0</td>\n",
              "      <td>0</td>\n",
              "      <td>M</td>\n",
              "      <td>17</td>\n",
              "      <td>Q</td>\n",
              "      <td>0</td>\n",
              "    </tr>\n",
              "    <tr>\n",
              "      <th>601278</th>\n",
              "      <td>1</td>\n",
              "      <td>I</td>\n",
              "      <td>0</td>\n",
              "      <td>0</td>\n",
              "      <td>0</td>\n",
              "      <td>0</td>\n",
              "      <td>0</td>\n",
              "      <td>0</td>\n",
              "      <td>0</td>\n",
              "      <td>0</td>\n",
              "      <td>1</td>\n",
              "      <td>0</td>\n",
              "      <td>0</td>\n",
              "      <td>M</td>\n",
              "      <td>17</td>\n",
              "      <td>Q</td>\n",
              "      <td>0</td>\n",
              "    </tr>\n",
              "    <tr>\n",
              "      <th>601279</th>\n",
              "      <td>1</td>\n",
              "      <td>O</td>\n",
              "      <td>0</td>\n",
              "      <td>0</td>\n",
              "      <td>0</td>\n",
              "      <td>0</td>\n",
              "      <td>0</td>\n",
              "      <td>0</td>\n",
              "      <td>0</td>\n",
              "      <td>1</td>\n",
              "      <td>0</td>\n",
              "      <td>0</td>\n",
              "      <td>0</td>\n",
              "      <td>M</td>\n",
              "      <td>17</td>\n",
              "      <td>Q</td>\n",
              "      <td>0</td>\n",
              "    </tr>\n",
              "  </tbody>\n",
              "</table>\n",
              "<p>45816 rows × 17 columns</p>\n",
              "</div>\n",
              "    <div class=\"colab-df-buttons\">\n",
              "\n",
              "  <div class=\"colab-df-container\">\n",
              "    <button class=\"colab-df-convert\" onclick=\"convertToInteractive('df-4bd31290-10b9-444a-ba8b-a7a5ee512deb')\"\n",
              "            title=\"Convert this dataframe to an interactive table.\"\n",
              "            style=\"display:none;\">\n",
              "\n",
              "  <svg xmlns=\"http://www.w3.org/2000/svg\" height=\"24px\" viewBox=\"0 -960 960 960\">\n",
              "    <path d=\"M120-120v-720h720v720H120Zm60-500h600v-160H180v160Zm220 220h160v-160H400v160Zm0 220h160v-160H400v160ZM180-400h160v-160H180v160Zm440 0h160v-160H620v160ZM180-180h160v-160H180v160Zm440 0h160v-160H620v160Z\"/>\n",
              "  </svg>\n",
              "    </button>\n",
              "\n",
              "  <style>\n",
              "    .colab-df-container {\n",
              "      display:flex;\n",
              "      gap: 12px;\n",
              "    }\n",
              "\n",
              "    .colab-df-convert {\n",
              "      background-color: #E8F0FE;\n",
              "      border: none;\n",
              "      border-radius: 50%;\n",
              "      cursor: pointer;\n",
              "      display: none;\n",
              "      fill: #1967D2;\n",
              "      height: 32px;\n",
              "      padding: 0 0 0 0;\n",
              "      width: 32px;\n",
              "    }\n",
              "\n",
              "    .colab-df-convert:hover {\n",
              "      background-color: #E2EBFA;\n",
              "      box-shadow: 0px 1px 2px rgba(60, 64, 67, 0.3), 0px 1px 3px 1px rgba(60, 64, 67, 0.15);\n",
              "      fill: #174EA6;\n",
              "    }\n",
              "\n",
              "    .colab-df-buttons div {\n",
              "      margin-bottom: 4px;\n",
              "    }\n",
              "\n",
              "    [theme=dark] .colab-df-convert {\n",
              "      background-color: #3B4455;\n",
              "      fill: #D2E3FC;\n",
              "    }\n",
              "\n",
              "    [theme=dark] .colab-df-convert:hover {\n",
              "      background-color: #434B5C;\n",
              "      box-shadow: 0px 1px 3px 1px rgba(0, 0, 0, 0.15);\n",
              "      filter: drop-shadow(0px 1px 2px rgba(0, 0, 0, 0.3));\n",
              "      fill: #FFFFFF;\n",
              "    }\n",
              "  </style>\n",
              "\n",
              "    <script>\n",
              "      const buttonEl =\n",
              "        document.querySelector('#df-4bd31290-10b9-444a-ba8b-a7a5ee512deb button.colab-df-convert');\n",
              "      buttonEl.style.display =\n",
              "        google.colab.kernel.accessAllowed ? 'block' : 'none';\n",
              "\n",
              "      async function convertToInteractive(key) {\n",
              "        const element = document.querySelector('#df-4bd31290-10b9-444a-ba8b-a7a5ee512deb');\n",
              "        const dataTable =\n",
              "          await google.colab.kernel.invokeFunction('convertToInteractive',\n",
              "                                                    [key], {});\n",
              "        if (!dataTable) return;\n",
              "\n",
              "        const docLinkHtml = 'Like what you see? Visit the ' +\n",
              "          '<a target=\"_blank\" href=https://colab.research.google.com/notebooks/data_table.ipynb>data table notebook</a>'\n",
              "          + ' to learn more about interactive tables.';\n",
              "        element.innerHTML = '';\n",
              "        dataTable['output_type'] = 'display_data';\n",
              "        await google.colab.output.renderOutput(dataTable, element);\n",
              "        const docLink = document.createElement('div');\n",
              "        docLink.innerHTML = docLinkHtml;\n",
              "        element.appendChild(docLink);\n",
              "      }\n",
              "    </script>\n",
              "  </div>\n",
              "\n",
              "\n",
              "<div id=\"df-f9b45258-14a7-4b65-afad-bad2308d1155\">\n",
              "  <button class=\"colab-df-quickchart\" onclick=\"quickchart('df-f9b45258-14a7-4b65-afad-bad2308d1155')\"\n",
              "            title=\"Suggest charts\"\n",
              "            style=\"display:none;\">\n",
              "\n",
              "<svg xmlns=\"http://www.w3.org/2000/svg\" height=\"24px\"viewBox=\"0 0 24 24\"\n",
              "     width=\"24px\">\n",
              "    <g>\n",
              "        <path d=\"M19 3H5c-1.1 0-2 .9-2 2v14c0 1.1.9 2 2 2h14c1.1 0 2-.9 2-2V5c0-1.1-.9-2-2-2zM9 17H7v-7h2v7zm4 0h-2V7h2v10zm4 0h-2v-4h2v4z\"/>\n",
              "    </g>\n",
              "</svg>\n",
              "  </button>\n",
              "\n",
              "<style>\n",
              "  .colab-df-quickchart {\n",
              "      --bg-color: #E8F0FE;\n",
              "      --fill-color: #1967D2;\n",
              "      --hover-bg-color: #E2EBFA;\n",
              "      --hover-fill-color: #174EA6;\n",
              "      --disabled-fill-color: #AAA;\n",
              "      --disabled-bg-color: #DDD;\n",
              "  }\n",
              "\n",
              "  [theme=dark] .colab-df-quickchart {\n",
              "      --bg-color: #3B4455;\n",
              "      --fill-color: #D2E3FC;\n",
              "      --hover-bg-color: #434B5C;\n",
              "      --hover-fill-color: #FFFFFF;\n",
              "      --disabled-bg-color: #3B4455;\n",
              "      --disabled-fill-color: #666;\n",
              "  }\n",
              "\n",
              "  .colab-df-quickchart {\n",
              "    background-color: var(--bg-color);\n",
              "    border: none;\n",
              "    border-radius: 50%;\n",
              "    cursor: pointer;\n",
              "    display: none;\n",
              "    fill: var(--fill-color);\n",
              "    height: 32px;\n",
              "    padding: 0;\n",
              "    width: 32px;\n",
              "  }\n",
              "\n",
              "  .colab-df-quickchart:hover {\n",
              "    background-color: var(--hover-bg-color);\n",
              "    box-shadow: 0 1px 2px rgba(60, 64, 67, 0.3), 0 1px 3px 1px rgba(60, 64, 67, 0.15);\n",
              "    fill: var(--button-hover-fill-color);\n",
              "  }\n",
              "\n",
              "  .colab-df-quickchart-complete:disabled,\n",
              "  .colab-df-quickchart-complete:disabled:hover {\n",
              "    background-color: var(--disabled-bg-color);\n",
              "    fill: var(--disabled-fill-color);\n",
              "    box-shadow: none;\n",
              "  }\n",
              "\n",
              "  .colab-df-spinner {\n",
              "    border: 2px solid var(--fill-color);\n",
              "    border-color: transparent;\n",
              "    border-bottom-color: var(--fill-color);\n",
              "    animation:\n",
              "      spin 1s steps(1) infinite;\n",
              "  }\n",
              "\n",
              "  @keyframes spin {\n",
              "    0% {\n",
              "      border-color: transparent;\n",
              "      border-bottom-color: var(--fill-color);\n",
              "      border-left-color: var(--fill-color);\n",
              "    }\n",
              "    20% {\n",
              "      border-color: transparent;\n",
              "      border-left-color: var(--fill-color);\n",
              "      border-top-color: var(--fill-color);\n",
              "    }\n",
              "    30% {\n",
              "      border-color: transparent;\n",
              "      border-left-color: var(--fill-color);\n",
              "      border-top-color: var(--fill-color);\n",
              "      border-right-color: var(--fill-color);\n",
              "    }\n",
              "    40% {\n",
              "      border-color: transparent;\n",
              "      border-right-color: var(--fill-color);\n",
              "      border-top-color: var(--fill-color);\n",
              "    }\n",
              "    60% {\n",
              "      border-color: transparent;\n",
              "      border-right-color: var(--fill-color);\n",
              "    }\n",
              "    80% {\n",
              "      border-color: transparent;\n",
              "      border-right-color: var(--fill-color);\n",
              "      border-bottom-color: var(--fill-color);\n",
              "    }\n",
              "    90% {\n",
              "      border-color: transparent;\n",
              "      border-bottom-color: var(--fill-color);\n",
              "    }\n",
              "  }\n",
              "</style>\n",
              "\n",
              "  <script>\n",
              "    async function quickchart(key) {\n",
              "      const quickchartButtonEl =\n",
              "        document.querySelector('#' + key + ' button');\n",
              "      quickchartButtonEl.disabled = true;  // To prevent multiple clicks.\n",
              "      quickchartButtonEl.classList.add('colab-df-spinner');\n",
              "      try {\n",
              "        const charts = await google.colab.kernel.invokeFunction(\n",
              "            'suggestCharts', [key], {});\n",
              "      } catch (error) {\n",
              "        console.error('Error during call to suggestCharts:', error);\n",
              "      }\n",
              "      quickchartButtonEl.classList.remove('colab-df-spinner');\n",
              "      quickchartButtonEl.classList.add('colab-df-quickchart-complete');\n",
              "    }\n",
              "    (() => {\n",
              "      let quickchartButtonEl =\n",
              "        document.querySelector('#df-f9b45258-14a7-4b65-afad-bad2308d1155 button');\n",
              "      quickchartButtonEl.style.display =\n",
              "        google.colab.kernel.accessAllowed ? 'block' : 'none';\n",
              "    })();\n",
              "  </script>\n",
              "</div>\n",
              "    </div>\n",
              "  </div>\n"
            ],
            "application/vnd.google.colaboratory.intrinsic+json": {
              "type": "dataframe",
              "variable_name": "filtered_sqf_with_weapon_suspicion",
              "summary": "{\n  \"name\": \"filtered_sqf_with_weapon_suspicion\",\n  \"rows\": 45816,\n  \"fields\": [\n    {\n      \"column\": \"perobs\",\n      \"properties\": {\n        \"dtype\": \"number\",\n        \"std\": 4,\n        \"min\": 0,\n        \"max\": 352,\n        \"num_unique_values\": 49,\n        \"samples\": [\n          21,\n          23,\n          28\n        ],\n        \"semantic_type\": \"\",\n        \"description\": \"\"\n      }\n    },\n    {\n      \"column\": \"inout\",\n      \"properties\": {\n        \"dtype\": \"category\",\n        \"num_unique_values\": 2,\n        \"samples\": [\n          \"O\",\n          \"I\"\n        ],\n        \"semantic_type\": \"\",\n        \"description\": \"\"\n      }\n    },\n    {\n      \"column\": \"contrabn\",\n      \"properties\": {\n        \"dtype\": \"number\",\n        \"std\": 0,\n        \"min\": 0,\n        \"max\": 1,\n        \"num_unique_values\": 2,\n        \"samples\": [\n          1,\n          0\n        ],\n        \"semantic_type\": \"\",\n        \"description\": \"\"\n      }\n    },\n    {\n      \"column\": \"pistol\",\n      \"properties\": {\n        \"dtype\": \"number\",\n        \"std\": 0,\n        \"min\": 0,\n        \"max\": 1,\n        \"num_unique_values\": 2,\n        \"samples\": [\n          1,\n          0\n        ],\n        \"semantic_type\": \"\",\n        \"description\": \"\"\n      }\n    },\n    {\n      \"column\": \"riflshot\",\n      \"properties\": {\n        \"dtype\": \"number\",\n        \"std\": 0,\n        \"min\": 0,\n        \"max\": 1,\n        \"num_unique_values\": 2,\n        \"samples\": [\n          1,\n          0\n        ],\n        \"semantic_type\": \"\",\n        \"description\": \"\"\n      }\n    },\n    {\n      \"column\": \"asltweap\",\n      \"properties\": {\n        \"dtype\": \"number\",\n        \"std\": 0,\n        \"min\": 0,\n        \"max\": 1,\n        \"num_unique_values\": 2,\n        \"samples\": [\n          1,\n          0\n        ],\n        \"semantic_type\": \"\",\n        \"description\": \"\"\n      }\n    },\n    {\n      \"column\": \"knifcuti\",\n      \"properties\": {\n        \"dtype\": \"number\",\n        \"std\": 0,\n        \"min\": 0,\n        \"max\": 1,\n        \"num_unique_values\": 2,\n        \"samples\": [\n          1,\n          0\n        ],\n        \"semantic_type\": \"\",\n        \"description\": \"\"\n      }\n    },\n    {\n      \"column\": \"machgun\",\n      \"properties\": {\n        \"dtype\": \"number\",\n        \"std\": 0,\n        \"min\": 0,\n        \"max\": 1,\n        \"num_unique_values\": 2,\n        \"samples\": [\n          1,\n          0\n        ],\n        \"semantic_type\": \"\",\n        \"description\": \"\"\n      }\n    },\n    {\n      \"column\": \"othrweap\",\n      \"properties\": {\n        \"dtype\": \"number\",\n        \"std\": 0,\n        \"min\": 0,\n        \"max\": 1,\n        \"num_unique_values\": 2,\n        \"samples\": [\n          1,\n          0\n        ],\n        \"semantic_type\": \"\",\n        \"description\": \"\"\n      }\n    },\n    {\n      \"column\": \"sb_hdobj\",\n      \"properties\": {\n        \"dtype\": \"number\",\n        \"std\": 0,\n        \"min\": 0,\n        \"max\": 1,\n        \"num_unique_values\": 2,\n        \"samples\": [\n          0,\n          1\n        ],\n        \"semantic_type\": \"\",\n        \"description\": \"\"\n      }\n    },\n    {\n      \"column\": \"sb_outln\",\n      \"properties\": {\n        \"dtype\": \"number\",\n        \"std\": 0,\n        \"min\": 0,\n        \"max\": 1,\n        \"num_unique_values\": 2,\n        \"samples\": [\n          1,\n          0\n        ],\n        \"semantic_type\": \"\",\n        \"description\": \"\"\n      }\n    },\n    {\n      \"column\": \"sb_admis\",\n      \"properties\": {\n        \"dtype\": \"number\",\n        \"std\": 0,\n        \"min\": 0,\n        \"max\": 1,\n        \"num_unique_values\": 2,\n        \"samples\": [\n          1,\n          0\n        ],\n        \"semantic_type\": \"\",\n        \"description\": \"\"\n      }\n    },\n    {\n      \"column\": \"cs_objcs\",\n      \"properties\": {\n        \"dtype\": \"number\",\n        \"std\": 0,\n        \"min\": 0,\n        \"max\": 1,\n        \"num_unique_values\": 2,\n        \"samples\": [\n          1,\n          0\n        ],\n        \"semantic_type\": \"\",\n        \"description\": \"\"\n      }\n    },\n    {\n      \"column\": \"sex\",\n      \"properties\": {\n        \"dtype\": \"category\",\n        \"num_unique_values\": 3,\n        \"samples\": [\n          \"M\",\n          \"F\"\n        ],\n        \"semantic_type\": \"\",\n        \"description\": \"\"\n      }\n    },\n    {\n      \"column\": \"age\",\n      \"properties\": {\n        \"dtype\": \"number\",\n        \"std\": 25,\n        \"min\": 0,\n        \"max\": 999,\n        \"num_unique_values\": 121,\n        \"samples\": [\n          1,\n          32\n        ],\n        \"semantic_type\": \"\",\n        \"description\": \"\"\n      }\n    },\n    {\n      \"column\": \"race\",\n      \"properties\": {\n        \"dtype\": \"category\",\n        \"num_unique_values\": 8,\n        \"samples\": [\n          \"B\",\n          \"A\"\n        ],\n        \"semantic_type\": \"\",\n        \"description\": \"\"\n      }\n    },\n    {\n      \"column\": \"weapon_fnd\",\n      \"properties\": {\n        \"dtype\": \"number\",\n        \"std\": 0,\n        \"min\": 0,\n        \"max\": 1,\n        \"num_unique_values\": 2,\n        \"samples\": [\n          1,\n          0\n        ],\n        \"semantic_type\": \"\",\n        \"description\": \"\"\n      }\n    }\n  ]\n}"
            }
          },
          "metadata": {},
          "execution_count": 7
        }
      ]
    },
    {
      "cell_type": "markdown",
      "metadata": {
        "id": "Upnwah8llQ3R"
      },
      "source": [
        "**How many times was a weapon found on the suspect?  How many times was a weapon not found on the suspect?**"
      ]
    },
    {
      "cell_type": "code",
      "metadata": {
        "id": "0Gxz_puXl_AE",
        "colab": {
          "base_uri": "https://localhost:8080/"
        },
        "outputId": "d9c25010-5bc9-4095-edae-4b017dee1e3b"
      },
      "source": [
        "# Count the occurrences of 1 and 0 in the \"weapon_fnd\" column\n",
        "weapon_found_count = filtered_sqf_with_weapon_suspicion['weapon_fnd'].sum()\n",
        "weapon_not_found_count = len(filtered_sqf_with_weapon_suspicion) - weapon_found_count\n",
        "\n",
        "# Display the results\n",
        "print(\"Number of times a weapon was found on the suspect:\", weapon_found_count)\n",
        "print(\"Number of times a weapon was not found on the suspect:\", weapon_not_found_count)\n"
      ],
      "execution_count": null,
      "outputs": [
        {
          "output_type": "stream",
          "name": "stdout",
          "text": [
            "Number of times a weapon was found on the suspect: 7255\n",
            "Number of times a weapon was not found on the suspect: 38561\n"
          ]
        }
      ]
    },
    {
      "cell_type": "markdown",
      "metadata": {
        "id": "ysgz6Dovl_dW"
      },
      "source": [
        "**In the next part, `\"weapon_fnd\"` will be the target variable, and note that the data set is not balanced.  Create a balanced data set.**"
      ]
    },
    {
      "cell_type": "code",
      "metadata": {
        "id": "MV31GywXE7GO",
        "colab": {
          "base_uri": "https://localhost:8080/"
        },
        "outputId": "330a6ec5-8d28-4cfa-fc42-1e512004cb3e"
      },
      "source": [
        "# -- split the data into \"A\" and \"U\" sub-sets\n",
        "weapon_found_df = filtered_sqf_with_weapon_suspicion[filtered_sqf_with_weapon_suspicion[\"weapon_fnd\"] == 1]\n",
        "weapon_not_found_df = filtered_sqf_with_weapon_suspicion[filtered_sqf_with_weapon_suspicion[\"weapon_fnd\"] == 0]\n",
        "\n",
        "# Sample an equal number of instances from each class\n",
        "balanced_weapon_not_found_df = weapon_not_found_df.sample(n=weapon_found_count, random_state=42)\n",
        "\n",
        "# Concatenate the balanced dataframes to create the final balanced dataset\n",
        "balanced_df = pd.concat([weapon_found_df, balanced_weapon_not_found_df])\n",
        "\n",
        "# Shuffle the final balanced dataset\n",
        "balanced_df = balanced_df.sample(frac=1, random_state=42).reset_index(drop=True)\n",
        "\n",
        "# Display the first few rows of the balanced dataset\n",
        "print(balanced_df.head())\n",
        "\n",
        "# Check the class distribution in the balanced dataset\n",
        "print(\"Class distribution in the balanced dataset:\")\n",
        "print(balanced_df['weapon_fnd'].value_counts())\n"
      ],
      "execution_count": null,
      "outputs": [
        {
          "output_type": "stream",
          "name": "stdout",
          "text": [
            "   perobs inout  contrabn  pistol  riflshot  asltweap  knifcuti  machgun  \\\n",
            "0       1     O         0       0         0         0         0        0   \n",
            "1       1     O         0       0         0         0         1        0   \n",
            "2       2     O         0       0         0         0         0        0   \n",
            "3       1     I         0       0         0         0         1        0   \n",
            "4       1     O         0       0         0         0         1        0   \n",
            "\n",
            "   othrweap  sb_hdobj  sb_outln  sb_admis  cs_objcs sex  age race  weapon_fnd  \n",
            "0         0         0         0         0         1   M   49    B           0  \n",
            "1         0         0         1         0         0   M   40    B           1  \n",
            "2         0         1         0         0         0   M   18    W           0  \n",
            "3         0         1         1         0         0   M   25    B           1  \n",
            "4         0         1         0         0         0   M   24    B           1  \n",
            "Class distribution in the balanced dataset:\n",
            "weapon_fnd\n",
            "0    7255\n",
            "1    7255\n",
            "Name: count, dtype: int64\n"
          ]
        }
      ]
    },
    {
      "cell_type": "markdown",
      "metadata": {
        "id": "EcAOyZ3qmbi8"
      },
      "source": [
        "### **Part 2 - Fitting Tree-based Classifier Models**"
      ]
    },
    {
      "cell_type": "markdown",
      "metadata": {
        "id": "51cM33zSmnSP"
      },
      "source": [
        "**Create the features from the balanced data set using the period of observation, whether the stop was inside or outside, the sex of the subject, the age of the subject, and the race of the subject as features (make sure to One Hot Encode categorical features).  Set the `\"weapon_fnd\"` column to be the target.**"
      ]
    },
    {
      "cell_type": "code",
      "metadata": {
        "id": "S2H9_O--GUO5",
        "colab": {
          "base_uri": "https://localhost:8080/"
        },
        "outputId": "9f99c572-a4ab-4bfa-81f4-c35b656dec39"
      },
      "source": [
        "# Selecting the features and target variable\n",
        "feat = balanced_df[['perobs', 'inout', 'sex', 'age', 'race']]\n",
        "targ = balanced_df['weapon_fnd']\n",
        "\n",
        "# One-hot encode categorical features\n",
        "feat = pd.get_dummies(feat)\n",
        "\n",
        "\n",
        "# Display the first few rows of the encoded features DataFrame\n",
        "print(feat.head())\n",
        "\n",
        "# Display the first few values of the target variable\n",
        "print(targ.head())"
      ],
      "execution_count": null,
      "outputs": [
        {
          "output_type": "stream",
          "name": "stdout",
          "text": [
            "   perobs  age  inout_I  inout_O  sex_F  sex_M  sex_Z  race_A  race_B  race_I  \\\n",
            "0       1   49    False     True  False   True  False   False    True   False   \n",
            "1       1   40    False     True  False   True  False   False    True   False   \n",
            "2       2   18    False     True  False   True  False   False   False   False   \n",
            "3       1   25     True    False  False   True  False   False    True   False   \n",
            "4       1   24    False     True  False   True  False   False    True   False   \n",
            "\n",
            "   race_P  race_Q  race_U  race_W  race_Z  \n",
            "0   False   False   False   False   False  \n",
            "1   False   False   False   False   False  \n",
            "2   False   False   False    True   False  \n",
            "3   False   False   False   False   False  \n",
            "4   False   False   False   False   False  \n",
            "0    0\n",
            "1    1\n",
            "2    0\n",
            "3    1\n",
            "4    1\n",
            "Name: weapon_fnd, dtype: int64\n"
          ]
        }
      ]
    },
    {
      "cell_type": "markdown",
      "metadata": {
        "id": "PgIFtgXVne_W"
      },
      "source": [
        "**Split your features and target into a training and testing set using an 80/20 split, setting `random_state` to `302`.**"
      ]
    },
    {
      "cell_type": "code",
      "metadata": {
        "id": "dcmHxVvfGuat"
      },
      "source": [
        "feat_tr, feat_te, targ_tr, targ_te = train_test_split(feat, targ, test_size=0.2, random_state=302)"
      ],
      "execution_count": null,
      "outputs": []
    },
    {
      "cell_type": "markdown",
      "metadata": {
        "id": "nuNQi-YknqU4"
      },
      "source": [
        "**Fit a `RandomForestClassifier` to your data with default hyperparameters and comment on its accuracy.**"
      ]
    },
    {
      "cell_type": "code",
      "metadata": {
        "id": "azzHij0IHC27",
        "colab": {
          "base_uri": "https://localhost:8080/"
        },
        "outputId": "e68112a9-1780-4d4e-f1e9-ded4a954c093"
      },
      "source": [
        "from sklearn.ensemble import RandomForestClassifier\n",
        "\n",
        "# Initialize RandomForestClassifier with default hyperparameters\n",
        "rf_classifier = RandomForestClassifier(random_state=42)\n",
        "\n",
        "# Fit the classifier to the training data\n",
        "rf_classifier.fit(feat_tr, targ_tr)\n",
        "\n",
        "# Calculate training accuracy\n",
        "train_accuracy = rf_classifier.score(feat_tr, targ_tr)\n",
        "print(\"Training Accuracy of RandomForestClassifier:\", train_accuracy)\n",
        "\n",
        "# Calculate accuracy on the testing set\n",
        "pred_te = rf_classifier.predict(feat_te)\n",
        "\n",
        "# Calculate accuracy on the testing set\n",
        "accuracy = rf_classifier.score(feat_te, targ_te)\n",
        "print(\"Accuracy of RandomForestClassifier:\", accuracy)\n",
        "\n",
        "# Print the classification report for detailed performance metrics\n",
        "print(classification_report(targ_te, pred_te))\n"
      ],
      "execution_count": null,
      "outputs": [
        {
          "output_type": "stream",
          "name": "stdout",
          "text": [
            "Training Accuracy of RandomForestClassifier: 0.6728980013783598\n",
            "Accuracy of RandomForestClassifier: 0.5513439007580979\n",
            "              precision    recall  f1-score   support\n",
            "\n",
            "           0       0.55      0.57      0.56      1466\n",
            "           1       0.55      0.54      0.54      1436\n",
            "\n",
            "    accuracy                           0.55      2902\n",
            "   macro avg       0.55      0.55      0.55      2902\n",
            "weighted avg       0.55      0.55      0.55      2902\n",
            "\n"
          ]
        }
      ]
    },
    {
      "cell_type": "markdown",
      "source": [
        "The Accuracy is 0.55 and both the precisions are well balanced. It seems that the model is overfitting since Training Accuracy is way higher than testing."
      ],
      "metadata": {
        "id": "GgYfYBOooUkC"
      }
    },
    {
      "cell_type": "markdown",
      "metadata": {
        "id": "lkEmrNYTn2po"
      },
      "source": [
        "**Tune the `min_samples_leaf` hyperparameter using Grid Search with Cross Validation and comment on the resultant model accuracy.**"
      ]
    },
    {
      "cell_type": "code",
      "metadata": {
        "id": "-MtV8qHgHiAt",
        "colab": {
          "base_uri": "https://localhost:8080/"
        },
        "outputId": "f6954b3f-4730-4044-e239-7d11a7504aa5"
      },
      "source": [
        "from sklearn.model_selection import GridSearchCV\n",
        "\n",
        "# Define the range of values for min_samples_leaf\n",
        "param_grid = {'min_samples_leaf': range(1, 51)}\n",
        "\n",
        "# grid_search = GridSearchCV(estimator=rf_classifier, param_grid=param_grid, cv=5)\n",
        "grid_search = GridSearchCV(rf_classifier, param_grid)\n",
        "\n",
        "# Fit the grid search to the training data\n",
        "grid_search.fit(feat_tr, targ_tr)\n",
        "\n",
        "# Get the best value of min_samples_leaf\n",
        "best_min_samples_leaf = grid_search.best_params_['min_samples_leaf']\n",
        "\n",
        "# Get the best model\n",
        "best_rf_classifier = grid_search.best_estimator_\n",
        "\n",
        "best_train_accuracy = grid_search.best_score_\n",
        "print(\"Training Accuracy after tuning:\", best_train_accuracy)\n",
        "\n",
        "\n",
        "# Calculate accuracy on the testing set using the best model\n",
        "accuracy = best_rf_classifier.score(feat_te, targ_te)\n",
        "print(\"Best min_samples_leaf:\", best_min_samples_leaf)\n",
        "print(\"Accuracy after tuning:\", accuracy)\n",
        "\n",
        "pred_te = best_rf_classifier.predict(feat_te)\n",
        "\n",
        "report = classification_report(targ_te, pred_te)\n",
        "\n",
        "print(report)\n"
      ],
      "execution_count": null,
      "outputs": [
        {
          "output_type": "stream",
          "name": "stdout",
          "text": [
            "Training Accuracy after tuning: 0.5650402403846689\n",
            "Best min_samples_leaf: 28\n",
            "Accuracy after tuning: 0.5644383184011027\n",
            "              precision    recall  f1-score   support\n",
            "\n",
            "           0       0.55      0.74      0.63      1466\n",
            "           1       0.59      0.38      0.47      1436\n",
            "\n",
            "    accuracy                           0.56      2902\n",
            "   macro avg       0.57      0.56      0.55      2902\n",
            "weighted avg       0.57      0.56      0.55      2902\n",
            "\n"
          ]
        }
      ]
    },
    {
      "cell_type": "markdown",
      "source": [
        "The accuracy is incresed to 0.56 and Precision of '1'(weapon found) is increased. It is neither overfitted nor underfitted since both training and testing accuracies are similar."
      ],
      "metadata": {
        "id": "VFPZb3YeqZbB"
      }
    },
    {
      "cell_type": "markdown",
      "source": [
        "### **Part 3 - Fitting Tree-based Regression Models**"
      ],
      "metadata": {
        "id": "XKA-dOVAGxv-"
      }
    },
    {
      "cell_type": "markdown",
      "metadata": {
        "id": "U24ZcN0-oT1s"
      },
      "source": [
        "**Fit a Random Forest *Regressor* to the data (being sure to tune `min_samples_leaf` with Grid Search).**"
      ]
    },
    {
      "cell_type": "code",
      "metadata": {
        "id": "iCmsupnrpHXQ",
        "colab": {
          "base_uri": "https://localhost:8080/"
        },
        "outputId": "3d3b2b8f-a8db-4bf5-b5dd-5e0717e1130f"
      },
      "source": [
        "from sklearn.ensemble import RandomForestRegressor\n",
        "\n",
        "# Define the range of values for min_samples_leaf\n",
        "param_grid = {'min_samples_leaf': range(1,51)}\n",
        "\n",
        "# Initialize RandomForestRegressor\n",
        "rf_regressor = RandomForestRegressor(random_state=42)\n",
        "\n",
        "grid_search = GridSearchCV(estimator=rf_regressor, param_grid=param_grid, cv=5)\n",
        "\n",
        "# Fit the grid search to the training data\n",
        "grid_search.fit(feat_tr, targ_tr)\n",
        "\n",
        "# Get the best value of min_samples_leaf\n",
        "best_min_samples_leaf = grid_search.best_params_['min_samples_leaf']\n",
        "\n",
        "# Get the best model\n",
        "best_rf_regressor = grid_search.best_estimator_\n",
        "\n",
        "# Calculate R-squared score on the testing set using the best model\n",
        "r_squared = best_rf_regressor.score(feat_te, targ_te)\n",
        "print(\"Best min_samples_leaf:\", best_min_samples_leaf)\n",
        "print(\"R-squared score after tuning:\", r_squared)\n"
      ],
      "execution_count": null,
      "outputs": [
        {
          "output_type": "stream",
          "name": "stdout",
          "text": [
            "Best min_samples_leaf: 50\n",
            "R-squared score after tuning: 0.02804452154625814\n"
          ]
        }
      ]
    },
    {
      "cell_type": "markdown",
      "metadata": {
        "id": "8h8R24DKpHKB"
      },
      "source": [
        "**With this Random Forest Regressor, we can interpret the prediction of the model as the probability that a weapon would be found given the features.  Make a histogram (`range` of 0 to 1 and 30 bins) of the predictions of this model using the subset of the testing data for which the subject's race was white and another histogram using the subset of the testing data for which the subject's race was black.**"
      ]
    },
    {
      "cell_type": "code",
      "source": [
        "# Create subplots for white and black races\n",
        "fig, axes = plt.subplots(nrows=1, ncols=2, figsize=(15, 5))\n",
        "\n",
        "# Filter the testing data for subjects with race white and make predictions\n",
        "feat_white = feat_te[feat_te['race_W'] == 1]  # Assuming 'race' represents the race category for white\n",
        "predictions_white = best_rf_regressor.predict(feat_white)\n",
        "\n",
        "# Create histogram for white race\n",
        "axes[0].hist(predictions_white, bins=30, range=(0, 1), color='blue', alpha=0.7)\n",
        "axes[0].set_title('Predicted Probability of Weapon Found (White)')\n",
        "axes[0].set_xlabel('Predicted Probability')\n",
        "axes[0].set_ylabel('Frequency')\n",
        "\n",
        "# Filter the testing data for subjects with race black and make predictions\n",
        "feat_black = feat_te[feat_te['race_B'] == 1]  # Assuming 'race' represents the race category for black\n",
        "predictions_black = best_rf_regressor.predict(feat_black)\n",
        "\n",
        "# Create histogram for black race\n",
        "axes[1].hist(predictions_black, bins=30, range=(0, 1), color='orange', alpha=0.7)\n",
        "axes[1].set_title('Predicted Probability of Weapon Found (Black)')\n",
        "axes[1].set_xlabel('Predicted Probability')\n",
        "axes[1].set_ylabel('Frequency')\n",
        "\n",
        "# Show the plots\n",
        "plt.tight_layout()\n",
        "plt.show()\n"
      ],
      "metadata": {
        "colab": {
          "base_uri": "https://localhost:8080/",
          "height": 507
        },
        "id": "iVYYebtknOuY",
        "outputId": "d1eae6c6-b74c-4fb4-ea0e-7d4a77334f87"
      },
      "execution_count": null,
      "outputs": [
        {
          "output_type": "display_data",
          "data": {
            "text/plain": [
              "<Figure size 1500x500 with 2 Axes>"
            ],
            "image/png": "[encoded data removed]"
          },
          "metadata": {}
        }
      ]
    },
    {
      "cell_type": "code",
      "source": [
        "# Create histograms\n",
        "plt.figure(figsize=(10, 5))\n",
        "plt.hist(predictions_white, bins=30, range=(0, 1), alpha=0.5, color='blue', label='White')\n",
        "plt.hist(predictions_black, bins=30, range=(0, 1), alpha=0.5, color='orange', label='Black')\n",
        "plt.xlabel('Predicted Probability of Weapon Found')\n",
        "plt.ylabel('Frequency')\n",
        "plt.title('Predicted Probability of Weapon Found by Race')\n",
        "plt.legend()\n",
        "plt.grid(True)\n",
        "plt.show()"
      ],
      "metadata": {
        "colab": {
          "base_uri": "https://localhost:8080/",
          "height": 487
        },
        "id": "6FCEp4Wnnsfy",
        "outputId": "ae7d7e25-164c-4485-e54e-7461a1cd1554"
      },
      "execution_count": null,
      "outputs": [
        {
          "output_type": "display_data",
          "data": {
            "text/plain": [
              "<Figure size 1000x500 with 1 Axes>"
            ],
            "image/png": "[encoded data removed]"
          },
          "metadata": {}
        }
      ]
    },
    {
      "cell_type": "markdown",
      "metadata": {
        "id": "eklSAsShpwJo"
      },
      "source": [
        "**Comment on the potential implications of this plot.**"
      ]
    },
    {
      "cell_type": "markdown",
      "metadata": {
        "id": "6b0pma-ip5kU"
      },
      "source": [
        "Based on the histograms of predicted probabilities, we observe a shift towards higher probabilities for the white race compared to the black race. This suggests that, on average, the model predicts a higher likelihood of finding a weapon for individuals identified as white compared to those identified as black. Indicating a little Bias in Race."
      ]
    },
    {
      "cell_type": "markdown",
      "metadata": {
        "id": "he_13Kg9p8_A"
      },
      "source": [
        "**Repeat the above (fit a Random Forest Regressor and plot histograms of the predictions of the subsets of the test data for which the subject was white and black) but *removing the subject's race as a feature on which the model is fit*.**"
      ]
    },
    {
      "cell_type": "code",
      "metadata": {
        "id": "vP5_S994p98J"
      },
      "source": [
        "feat = balanced_df[['perobs', 'inout', 'sex', 'age', 'race']]\n",
        "\n",
        "# Exclude the 'race' column from the features\n",
        "feat_no_race = feat[['perobs', 'inout', 'sex', 'age']]\n",
        "\n",
        "feat_no_race = pd.get_dummies(feat_no_race)\n",
        "\n",
        "# Split the features into training and testing sets\n",
        "feat_tr_no_race, feat_te_no_race, targ_tr, targ_te = train_test_split(feat_no_race, targ, test_size=0.2, random_state=302)\n",
        "\n",
        "\n",
        "\n",
        "# Initialize RandomForestRegressor\n",
        "rf_regressor_no_race = RandomForestRegressor(random_state=42)\n",
        "\n",
        "# Initialize GridSearchCV\n",
        "grid_search_no_race = GridSearchCV(estimator=rf_regressor_no_race, param_grid=param_grid)\n",
        "\n",
        "# Fit the grid search to the training data\n",
        "grid_search_no_race.fit(feat_tr_no_race, targ_tr)\n",
        "\n",
        "\n",
        "\n",
        "# Get the best value of min_samples_leaf\n",
        "best_min_samples_leaf_no_race = grid_search_no_race.best_params_['min_samples_leaf']\n",
        "\n",
        "# Get the best model\n",
        "best_rf_regressor_no_race = grid_search_no_race.best_estimator_\n"
      ],
      "execution_count": null,
      "outputs": []
    },
    {
      "cell_type": "code",
      "source": [
        "# Filter the testing data for subjects with race white and make predictions\n",
        "feat_white_no_race = feat_te_no_race[feat['race'] == 'W']  # Assuming 'race' represents the race category for white\n",
        "predictions_white_no_race = best_rf_regressor_no_race.predict(feat_white_no_race)\n",
        "\n",
        "# Filter the testing data for subjects with race black and make predictions\n",
        "feat_black_no_race = feat_te_no_race[feat['race'] == 'B']  # Assuming 'race' represents the race category for black\n",
        "predictions_black_no_race = best_rf_regressor_no_race.predict(feat_black_no_race)\n",
        "\n",
        "# Create histograms\n",
        "plt.figure(figsize=(10, 5))\n",
        "plt.hist(predictions_white_no_race, bins=30, range=(0, 1), alpha=0.5, color='blue', label='White')\n",
        "plt.hist(predictions_black_no_race, bins=30, range=(0, 1), alpha=0.5, color='orange', label='Black')\n",
        "plt.xlabel('Predicted Probability of Weapon Found')\n",
        "plt.ylabel('Frequency')\n",
        "plt.title('Predicted Probability of Weapon Found by Race (Excluding Race)')\n",
        "plt.legend()\n",
        "plt.grid(True)\n",
        "plt.show()"
      ],
      "metadata": {
        "colab": {
          "base_uri": "https://localhost:8080/",
          "height": 556
        },
        "id": "R80A3BzV-JKF",
        "outputId": "96b1ab6b-768f-41bd-9459-55785edec190"
      },
      "execution_count": null,
      "outputs": [
        {
          "output_type": "stream",
          "name": "stderr",
          "text": [
            "<ipython-input-17-99ef38b27f4c>:2: UserWarning: Boolean Series key will be reindexed to match DataFrame index.\n",
            "  feat_white_no_race = feat_te_no_race[feat['race'] == 'W']  # Assuming 'race' represents the race category for white\n",
            "<ipython-input-17-99ef38b27f4c>:6: UserWarning: Boolean Series key will be reindexed to match DataFrame index.\n",
            "  feat_black_no_race = feat_te_no_race[feat['race'] == 'B']  # Assuming 'race' represents the race category for black\n"
          ]
        },
        {
          "output_type": "display_data",
          "data": {
            "text/plain": [
              "<Figure size 1000x500 with 1 Axes>"
            ],
            "image/png": "[encoded data removed]"
          },
          "metadata": {}
        }
      ]
    },
    {
      "cell_type": "markdown",
      "metadata": {
        "id": "6N082XLnafbi"
      },
      "source": [
        "**Assuming that a probability over `0.5` indicates that the model predicts that a weapon will be found on the suspect, is the model that uses the race of a subject as a feature more or less accurate than the model that does not?**"
      ]
    },
    {
      "cell_type": "code",
      "metadata": {
        "id": "r6cQBLhna1an",
        "colab": {
          "base_uri": "https://localhost:8080/"
        },
        "outputId": "409b7e98-c0f6-434c-bb6c-e30a2a5c3b16"
      },
      "source": [
        "from sklearn.metrics import accuracy_score\n",
        "\n",
        "# Predict probabilities for the model with race as a feature\n",
        "predicted_probs_race = best_rf_regressor.predict(feat_te)\n",
        "\n",
        "# Predict probabilities for the model without race as a feature\n",
        "predicted_probs_no_race = best_rf_regressor_no_race.predict(feat_te_no_race)\n",
        "\n",
        "# Assign binary labels based on the probability threshold of 0.5\n",
        "labels_race = (predicted_probs_race > 0.5).astype(int)\n",
        "labels_no_race = (predicted_probs_no_race > 0.5).astype(int)\n",
        "\n",
        "# Calculate accuracy for the model with race as a feature\n",
        "accuracy_race = accuracy_score(targ_te, labels_race)\n",
        "\n",
        "# Calculate accuracy for the model without race as a feature\n",
        "accuracy_no_race = accuracy_score(targ_te, labels_no_race)\n",
        "\n",
        "print(accuracy_race)\n",
        "print(accuracy_no_race)\n",
        "\n",
        "# Compare accuracies\n",
        "if accuracy_race > accuracy_no_race:\n",
        "    print(\"The model that uses race as a feature is more accurate.\")\n",
        "elif accuracy_race < accuracy_no_race:\n",
        "    print(\"The model that does not use race as a feature is more accurate.\")\n",
        "else:\n",
        "    print(\"Both models have the same accuracy.\")\n"
      ],
      "execution_count": null,
      "outputs": [
        {
          "output_type": "stream",
          "name": "stdout",
          "text": [
            "0.5561681598897312\n",
            "0.5530668504479669\n",
            "The model that uses race as a feature is more accurate.\n"
          ]
        }
      ]
    }
  ]
}